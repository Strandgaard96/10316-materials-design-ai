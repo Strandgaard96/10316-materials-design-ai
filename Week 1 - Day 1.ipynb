{
 "cells": [
  {
   "cell_type": "markdown",
   "metadata": {},
   "source": [
    "# Week 1 - Day 1\n",
    "\n"
   ]
  },
  {
   "cell_type": "markdown",
   "metadata": {},
   "source": [
    "## Notes from lecture:\n",
    "\n",
    "In class init function if you specidfy \n",
    "\n",
    "    __init__(self,x=0,y=0)\n",
    "    \n",
    "Then they are set to zero if you do not specify x and y like class() instead of class(x,y)\n",
    "\n",
    "\n",
    "## Probabilistic machine learning\n",
    "\n",
    "Stability of material is the most basic and important property. we can not work with it if it is not stable -> high negative heat of formation. \n",
    "\n",
    "**Variance:**\n",
    "\n",
    "If you pick different data points and get very different predictions you have high variance\n",
    "\n",
    "Compromise between bias and variance when fitting. \n",
    "Many data points give high variance. Few give high bias. \n",
    "\n"
   ]
  },
  {
   "cell_type": "code",
   "execution_count": 3,
   "metadata": {},
   "outputs": [],
   "source": [
    "%matplotlib notebook\n",
    "import matplotlib.pyplot as plt\n",
    "import numpy as np\n",
    "import pandas as pd\n",
    "import math\n",
    "from jupyterthemes import jtplot\n",
    "\n",
    "# choose which theme to inherit plotting style from\n",
    "# onedork | grade3 | oceans16 | chesterish | monokai | solarizedl | solarizedd\n",
    "jtplot.style(theme='onedork')\n",
    "\n",
    "\n",
    "# Set a plot style for nice plots. \n",
    "plt.style.use('ggplot')\n",
    "\n",
    "# Set plot size. \n",
    "plt.rcParams['figure.figsize'] = [13, 6]\n",
    "\n",
    "# Set font size\n",
    "plt.rcParams.update({'font.size': 16})"
   ]
  },
  {
   "cell_type": "code",
   "execution_count": 4,
   "metadata": {},
   "outputs": [],
   "source": [
    "class Vector:\n",
    "    \"\"\"Class representing a vector\"\"\"\n",
    "    def __init__(self,x,y,z):\n",
    "        self.set(x,y,z)\n",
    "    \n",
    "    def set(self,x,y,z):\n",
    "        self.x = x\n",
    "        self.y = y\n",
    "        self.z = z\n",
    "    def __repr__(self):\n",
    "        \"Magic method printing the vector\"\n",
    "        return \"Vector({:.3f},{:.3f},{:.3f})\".format(self.x,self.y,self.z)\n",
    "    \n",
    "    def __sub__(self,other):\n",
    "        \"Substraction of two vectors\"\n",
    "        return Vector(self.x - other.x, self.y - other.y, self.z - other.z)\n",
    "    \n",
    "    def __add__(self,other):\n",
    "        \"Addition of two vectors\"\n",
    "        return Vector(self.x + other.x, self.y + other.y, self.z + other.z)\n",
    "    \n",
    "    def __mul__(self,num):\n",
    "        \"Multiply vector by integer\"\n",
    "        return Vector(self.x*num,self.y*num,self.z*num)\n",
    "    \n",
    "    def norm(self):\n",
    "        \"Return the norm of the vector\"\n",
    "        return math.sqrt((self.x)**2 + (self.y)**2 + (self.z)**2)"
   ]
  },
  {
   "cell_type": "code",
   "execution_count": 84,
   "metadata": {},
   "outputs": [],
   "source": [
    "v1 = Vector(1,2,3)\n",
    "v2 = Vector(2,2,2)"
   ]
  },
  {
   "cell_type": "code",
   "execution_count": 85,
   "metadata": {},
   "outputs": [
    {
     "name": "stdout",
     "output_type": "stream",
     "text": [
      "Vector(1.000,2.000,3.000)\n"
     ]
    }
   ],
   "source": [
    "print(v1)"
   ]
  },
  {
   "cell_type": "markdown",
   "metadata": {},
   "source": [
    "help(v1)"
   ]
  },
  {
   "cell_type": "code",
   "execution_count": 86,
   "metadata": {},
   "outputs": [],
   "source": [
    "c = v1 + v2"
   ]
  },
  {
   "cell_type": "code",
   "execution_count": 88,
   "metadata": {},
   "outputs": [
    {
     "data": {
      "text/plain": [
       "Vector(4.000,8.000,12.000)"
      ]
     },
     "execution_count": 88,
     "metadata": {},
     "output_type": "execute_result"
    }
   ],
   "source": [
    "v1*4"
   ]
  }
 ],
 "metadata": {
  "kernelspec": {
   "display_name": "Python 3",
   "language": "python",
   "name": "python3"
  },
  "language_info": {
   "codemirror_mode": {
    "name": "ipython",
    "version": 3
   },
   "file_extension": ".py",
   "mimetype": "text/x-python",
   "name": "python",
   "nbconvert_exporter": "python",
   "pygments_lexer": "ipython3",
   "version": "3.7.3"
  }
 },
 "nbformat": 4,
 "nbformat_minor": 2
}
